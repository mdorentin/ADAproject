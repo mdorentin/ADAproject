{
 "cells": [
  {
   "cell_type": "code",
   "execution_count": 14,
   "metadata": {},
   "outputs": [],
   "source": [
    "import numpy as np\n",
    "import pandas as pd\n",
    "import yfinance as yf\n",
    "\n",
    "import warnings\n",
    "import matplotlib.pyplot as plt\n",
    "warnings.filterwarnings('ignore')"
   ]
  },
  {
   "cell_type": "markdown",
   "metadata": {},
   "source": [
    "## Data Preparation Notebook"
   ]
  },
  {
   "cell_type": "markdown",
   "metadata": {},
   "source": [
    "### OHLC Dataframes"
   ]
  },
  {
   "cell_type": "code",
   "execution_count": 15,
   "metadata": {},
   "outputs": [],
   "source": [
    "start = '2019-01-01'\n",
    "end = '2024-04-01'\n",
    "\n",
    "## Top 5 Most Traded Forex Pairs in the World (Source: https://www.ig.com/en/trading-strategies/top-10-most-traded-currency-pairs-191206)\n",
    "pairs = ['EURUSD=X', 'GBPUSD=X', 'CHFUSD=X', 'CADUSD=X']\n",
    "\n",
    "## Name of the future .csv file that will contain the historical ohlc dataframe of each pair.\n",
    "data_names = ['eurusd.csv', 'gbpusd.csv', 'chfusd.csv', 'cadusd.csv']\n",
    "\n",
    "\n",
    "## Import the historical ohlc dataframe of each pair from Yahoo Finance and save it in the data folder as a .csv\n",
    "for i in range(4):\n",
    "    df = yf.download(pairs[i], start=start, end=end, progress=False).iloc[:,:4]\n",
    "    df.to_csv(f'data/ohlc_df/{data_names[i]}')"
   ]
  },
  {
   "cell_type": "markdown",
   "metadata": {},
   "source": [
    "### Technical Indicators"
   ]
  },
  {
   "cell_type": "code",
   "execution_count": 16,
   "metadata": {},
   "outputs": [],
   "source": [
    "def technical_indicators(data):\n",
    "    '''\n",
    "    This function computes the following technical indicators to a OHLC dataframe:\n",
    "    * Moving Average (MA)\n",
    "    * Exponential Moving Average (EMA)\n",
    "    * Moving Average Convergence/Divergence (MACD)\n",
    "    * Bollinger Bands\n",
    "    * Average True Range (ATR)\n",
    "    * Relative Strength Index (RSI)\n",
    "    * Pivot Point\n",
    "    * Commodity Channel Index\n",
    "    * Momentum\n",
    "    '''\n",
    "    ## MA\n",
    "    data['MA10'] = data.Close.rolling(10).mean()\n",
    "\n",
    "    ## EMA\n",
    "    data['EMA12'] = data.Close.ewm(span=12, adjust=False).mean()\n",
    "    data['EMA26'] = data.Close.ewm(span=26, adjust=False).mean()\n",
    "\n",
    "    ## MACD\n",
    "    data['MACD'] = data['EMA12'] - data['EMA26']\n",
    "\n",
    "    ## Bollinger Bands\n",
    "    rolling_mean = data.Close.rolling(window=20).mean()\n",
    "    rolling_std = data.Close.rolling(window=20).std()\n",
    "\n",
    "    data['UB'] = rolling_mean + 2*rolling_std\n",
    "    data['LB'] = rolling_mean - 2*rolling_std\n",
    "    \n",
    "    ## Average True Range (ATR)\n",
    "    high_low = data.High - data.Low\n",
    "    highprevclose = abs(data.High - data.Close.shift(1))\n",
    "    lowprevclose = abs(data.Low - data.Close.shift(1))\n",
    "    true_range = pd.concat([high_low, highprevclose, lowprevclose], axis=1).max(axis=1)\n",
    "    \n",
    "    data['ATR'] = true_range.rolling(window=14).mean()\n",
    "    \n",
    "    ## Relative Strength Index (RSI)\n",
    "    delta = data.Close.diff()\n",
    "    gain = (delta.where(delta > 0, 0)).rolling(window=10).mean()\n",
    "    loss = (-delta.where(delta < 0, 0)).rolling(window=10).mean()\n",
    "    rs = gain / loss\n",
    "    \n",
    "    data['RSI'] = 100 - (100 / (1 + rs))\n",
    "\n",
    "    ## Pivot Point & Support/Resistances\n",
    "    data['pivot'] = (data.High + data.Low + data.Close) / 3\n",
    "    data['s1'] = data['pivot']*2 - data.High\n",
    "    data['r1'] = data['pivot']*2 - data.Low\n",
    "\n",
    "    data['s2'] = data['pivot'] - (data.High - data.Low)\n",
    "    data['r2'] = data['pivot'] + (data.High - data.Low)\n",
    "\n",
    "    data['s3'] = data.Low - 2*(data.High - data['pivot'])\n",
    "    data['r3'] = data.High + 2*(data['pivot'] - data.Low)\n",
    "\n",
    "    ## Commodity Channel Index\n",
    "    typical_price = (df['Close'] + df['Low'] + df['High'])/3\n",
    "    mean_deviation = abs(typical_price - typical_price.rolling(window=20).mean())\n",
    "    mean_deviation_sum = mean_deviation.rolling(window=20).sum()\n",
    "\n",
    "    data['CCI'] = (typical_price - typical_price.rolling(window=20).mean()) / (0.015 * mean_deviation_sum)\n",
    "    \n",
    "    ## Momentum\n",
    "    data['mom'] = data.Close.diff(4)\n",
    "\n",
    "    return data\n",
    "    "
   ]
  },
  {
   "cell_type": "code",
   "execution_count": 17,
   "metadata": {},
   "outputs": [],
   "source": [
    "## Create the .csv with the ohlc dataframe and the technical indicators for each pairs.\n",
    "data_names_tech = ['eurusd_tech.csv', 'gbpusd_tech.csv', 'chfusd_tech.csv', 'cadusd_tech.csv']\n",
    "\n",
    "for i in range(4):\n",
    "    data = pd.read_csv(f'data/ohlc_df/{data_names[i]}', index_col=0)\n",
    "    data = technical_indicators(data).iloc[:,3:].dropna()\n",
    "    data.to_csv(f'data/technical_df/{data_names_tech[i]}')"
   ]
  },
  {
   "cell_type": "markdown",
   "metadata": {},
   "source": [
    "### Macroeconomic Indicators"
   ]
  },
  {
   "cell_type": "code",
   "execution_count": 18,
   "metadata": {},
   "outputs": [],
   "source": [
    "def import_macrodata(filename='cad_inflation.csv'):\n",
    "    '''\n",
    "    This function imports the .csv file according to the parameters and transform it into a daily dataframe.\n",
    "    '''\n",
    "    type = filename.split('.')[0].split('_')[1]\n",
    "    if type == 'inflation':\n",
    "        df1 = pd.read_csv(f'data/inflation_rates/{filename}', index_col=1).iloc[:,1]\n",
    "    elif type == 'interest':\n",
    "        df1 = pd.read_csv(f'data/interest_rates/{filename}', index_col=1).iloc[:,1]\n",
    "    else:\n",
    "        raise ValueError(\"This type of file doesn't exist.\")\n",
    "    \n",
    "    df1.index = pd.to_datetime(df1.index)\n",
    "    df2 = pd.Series(index=pd.date_range(start, end))\n",
    "    df2.update(df1)\n",
    "    df2 = df2.ffill()\n",
    "\n",
    "    if pd.isna(df2[0]):\n",
    "        df2[0] = df1[df1.index.year == df2.index[0].year - 1].iloc[-1]\n",
    "        df2 = df2.ffill()\n",
    "    \n",
    "    return pd.DataFrame(df2, columns=[filename.split('.')[0]])"
   ]
  },
  {
   "cell_type": "code",
   "execution_count": 1,
   "metadata": {},
   "outputs": [],
   "source": [
    "def macroeconomic_indicators(pair):\n",
    "    '''\n",
    "    This functions concats the OHLC dataframe of a pair with the major index of the countries related to the pair.\n",
    "    It also imports the interest and inflation rates.\n",
    "    '''\n",
    "    data_name = f\"{pair.split('=')[0].lower()}.csv\"\n",
    "    ## Import the dataframe\n",
    "    data = pd.read_csv(f'data/ohlc_df/{data_name}', index_col=0).iloc[:,3]\n",
    "    data.index = pd.to_datetime(data.index)\n",
    "\n",
    "    ## Add the US major index (Close Price)\n",
    "    major_index = ['^GSPC', '^DJI', '^IXIC']\n",
    "\n",
    "    usa_interest = import_macrodata(filename='usd_interest.csv')\n",
    "    usa_inflation = import_macrodata(filename='usd_inflation.csv')\n",
    "\n",
    "    ## Add the non-US major index (Close Price)\n",
    "    if pair == 'EURUSD=X':\n",
    "        other_index = ['^GDAXI', '^FCHI', 'FTSEMIB.MI']\n",
    "\n",
    "        df_interest = import_macrodata(filename='eur_interest.csv')\n",
    "        df_inflation = import_macrodata(filename='eur_inflation.csv')\n",
    "\n",
    "    elif pair == 'GBPUSD=X':\n",
    "        other_index = ['^FTSE']\n",
    "\n",
    "        df_interest = import_macrodata(filename='gbp_interest.csv')\n",
    "        df_inflation = import_macrodata(filename='gbp_inflation.csv')\n",
    "\n",
    "    elif pair == 'CHFUSD=X':\n",
    "        other_index = ['^SSMI']\n",
    "\n",
    "        df_interest = import_macrodata(filename='chf_interest.csv')\n",
    "        df_inflation = import_macrodata(filename='chf_inflation.csv')\n",
    "\n",
    "    elif pair == 'CADUSD=X':\n",
    "        other_index = ['^GSPTSE']\n",
    "\n",
    "        df_interest = import_macrodata(filename='cad_interest.csv')\n",
    "        df_inflation = import_macrodata(filename='cad_inflation.csv')\n",
    "        \n",
    "    else:\n",
    "        raise ValueError('Pair is not supported.')\n",
    "\n",
    "    major_index += other_index\n",
    "    indexes = yf.download(major_index, start=start, end=end, progress=False).Close\n",
    "    data = pd.concat([data, indexes, usa_interest, usa_inflation, df_interest, df_inflation], axis=1).dropna()\n",
    "\n",
    "    return data"
   ]
  },
  {
   "cell_type": "code",
   "execution_count": 20,
   "metadata": {},
   "outputs": [],
   "source": [
    "data_names_macro = ['eurusd_macro.csv', 'gbpusd_macro.csv', 'chfusd_macro.csv', 'cadusd_macro.csv']\n",
    "\n",
    "for i in range(4):\n",
    "    data = macroeconomic_indicators(pair=pairs[i])\n",
    "    data.to_csv(f'data/macro_df/{data_names_macro[i]}')"
   ]
  },
  {
   "cell_type": "markdown",
   "metadata": {},
   "source": [
    "### Technical & Macroeconomic Indicators"
   ]
  },
  {
   "cell_type": "code",
   "execution_count": null,
   "metadata": {},
   "outputs": [],
   "source": [
    "## We make dataframes with both technical and macroeconomic indicators.\n",
    "\n",
    "data_names_both = ['eurusd_both.csv', 'gbpusd_both.csv', 'chfusd_both.csv', 'cadusd_both.csv']\n",
    "\n",
    "for i in range(4):\n",
    "    df2 = pd.read_csv(f'data/macro_df/{data_names_macro[i]}', index_col=0).iloc[:,4:]\n",
    "    df1 = pd.read_csv(f'data/technical_df/{data_names_tech[i]}', index_col=0)\n",
    "    data = pd.concat([df1, df2], axis=1).dropna()\n",
    "    data.to_csv(f'data/both_df/{data_names_both[i]}')"
   ]
  }
 ],
 "metadata": {
  "kernelspec": {
   "display_name": "base",
   "language": "python",
   "name": "python3"
  },
  "language_info": {
   "codemirror_mode": {
    "name": "ipython",
    "version": 3
   },
   "file_extension": ".py",
   "mimetype": "text/x-python",
   "name": "python",
   "nbconvert_exporter": "python",
   "pygments_lexer": "ipython3",
   "version": "3.10.13"
  }
 },
 "nbformat": 4,
 "nbformat_minor": 2
}
